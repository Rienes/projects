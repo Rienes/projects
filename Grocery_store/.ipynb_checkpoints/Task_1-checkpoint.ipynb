{
 "cells": [
  {
   "cell_type": "markdown",
   "metadata": {},
   "source": [
    "# *1. Поиск паттернов покупок*\n"
   ]
  },
  {
   "cell_type": "markdown",
   "metadata": {},
   "source": [
    "Вы – единственный аналитик в компании, на которого легла ответственность за поиск инсайтов \n",
    "в данных продуктовых магазинов вашей компании.\n",
    "\n",
    "В файле содержится информация о покупках людей"
   ]
  },
  {
   "cell_type": "markdown",
   "metadata": {},
   "source": [
    "ID            | Товар         | Количество \n",
    ":------------- |:---------------|:-------------: \n",
    "1             | Арбуз         | 1.0\n",
    "1             | Чай           | 1.0\n",
    "1             | Сгущёнка      | 0.5\n",
    "2             | Арбуз         | 3.0\n",
    "2             | Чай           | 1.0"
   ]
  },
  {
   "cell_type": "markdown",
   "metadata": {},
   "source": [
    "* id – означает покупку (в одну покупку входят все товары, купленные пользователем во время 1 похода в магазин)\n",
    "* Товар – наименование товара\n",
    "* Количество – число единиц купленного товара"
   ]
  },
  {
   "cell_type": "markdown",
   "metadata": {},
   "source": [
    "Воспользуйтесь этими данными и выясните, какие пары товаров пользователи чаще всего покупают \n",
    "вместе.По сути, вам необходимо найти паттерны покупок, что позволит оптимизировать размещение \n",
    "продуктов в магазине,для удобства пользователей и увеличения выручки.\n",
    "  \n",
    "1_Товар        | 2_Товар        | Встречаемость \n",
    ":------------- |:---------------|:-------------: \n",
    "      Чай      |Арбуз           |2\n",
    "      Арбуз    |Сгущёнка        |1\n",
    "      Чай      |Сгущёнка        |1\n",
    "    \n",
    "* 1_Товар – наименование первого товара\n",
    "* 2_Товар – наименование второго товара\n",
    "* Встречаемость – число раз, когда такая пара была встречена\n",
    "Другими словами: 2 раза люди покупали одновременно чай и арбуз, 1 раз одновременно покупали арбуз и сгущёнку \n",
    "и 1 раз одновременно были куплены чай со сгущёнкой.\n",
    "\n",
    "Напишите код на python для получения нужной таблицы и укажите 5 наиболее распространённых паттернов."
   ]
  },
  {
   "cell_type": "code",
   "execution_count": 1,
   "metadata": {},
   "outputs": [],
   "source": [
    "import pandas as pd\n",
    "import numpy as np\n",
    "import seaborn as sns\n",
    "from matplotlib import pyplot as plt"
   ]
  },
  {
   "cell_type": "code",
   "execution_count": 2,
   "metadata": {},
   "outputs": [],
   "source": [
    "df = pd.read_csv('https://stepik.org/media/attachments/lesson/409319/test1_completed.csv')"
   ]
  },
  {
   "cell_type": "code",
   "execution_count": 3,
   "metadata": {},
   "outputs": [
    {
     "data": {
      "text/html": [
       "<div>\n",
       "<style scoped>\n",
       "    .dataframe tbody tr th:only-of-type {\n",
       "        vertical-align: middle;\n",
       "    }\n",
       "\n",
       "    .dataframe tbody tr th {\n",
       "        vertical-align: top;\n",
       "    }\n",
       "\n",
       "    .dataframe thead th {\n",
       "        text-align: right;\n",
       "    }\n",
       "</style>\n",
       "<table border=\"1\" class=\"dataframe\">\n",
       "  <thead>\n",
       "    <tr style=\"text-align: right;\">\n",
       "      <th></th>\n",
       "      <th>id</th>\n",
       "      <th>Товар</th>\n",
       "      <th>Количество</th>\n",
       "    </tr>\n",
       "  </thead>\n",
       "  <tbody>\n",
       "    <tr>\n",
       "      <th>0</th>\n",
       "      <td>17119</td>\n",
       "      <td>Лимон</td>\n",
       "      <td>1.1</td>\n",
       "    </tr>\n",
       "    <tr>\n",
       "      <th>1</th>\n",
       "      <td>17119</td>\n",
       "      <td>Лимон оранжевый</td>\n",
       "      <td>0.7</td>\n",
       "    </tr>\n",
       "    <tr>\n",
       "      <th>2</th>\n",
       "      <td>17119</td>\n",
       "      <td>Лук-порей</td>\n",
       "      <td>10.0</td>\n",
       "    </tr>\n",
       "  </tbody>\n",
       "</table>\n",
       "</div>"
      ],
      "text/plain": [
       "      id            Товар  Количество\n",
       "0  17119            Лимон         1.1\n",
       "1  17119  Лимон оранжевый         0.7\n",
       "2  17119        Лук-порей        10.0"
      ]
     },
     "execution_count": 3,
     "metadata": {},
     "output_type": "execute_result"
    }
   ],
   "source": [
    "df.head(3)"
   ]
  },
  {
   "cell_type": "markdown",
   "metadata": {},
   "source": [
    "**Конкретно для данной задачи нам не важно количество товара в заказе, а важен сам факт покупки**"
   ]
  },
  {
   "cell_type": "code",
   "execution_count": 4,
   "metadata": {},
   "outputs": [],
   "source": [
    "df1 = df.assign(Покупка=1).drop(columns='Количество')"
   ]
  },
  {
   "cell_type": "code",
   "execution_count": 5,
   "metadata": {},
   "outputs": [
    {
     "data": {
      "text/html": [
       "<div>\n",
       "<style scoped>\n",
       "    .dataframe tbody tr th:only-of-type {\n",
       "        vertical-align: middle;\n",
       "    }\n",
       "\n",
       "    .dataframe tbody tr th {\n",
       "        vertical-align: top;\n",
       "    }\n",
       "\n",
       "    .dataframe thead th {\n",
       "        text-align: right;\n",
       "    }\n",
       "</style>\n",
       "<table border=\"1\" class=\"dataframe\">\n",
       "  <thead>\n",
       "    <tr style=\"text-align: right;\">\n",
       "      <th></th>\n",
       "      <th>id</th>\n",
       "      <th>Товар</th>\n",
       "      <th>Покупка</th>\n",
       "    </tr>\n",
       "  </thead>\n",
       "  <tbody>\n",
       "    <tr>\n",
       "      <th>0</th>\n",
       "      <td>17119</td>\n",
       "      <td>Лимон</td>\n",
       "      <td>1</td>\n",
       "    </tr>\n",
       "    <tr>\n",
       "      <th>1</th>\n",
       "      <td>17119</td>\n",
       "      <td>Лимон оранжевый</td>\n",
       "      <td>1</td>\n",
       "    </tr>\n",
       "    <tr>\n",
       "      <th>2</th>\n",
       "      <td>17119</td>\n",
       "      <td>Лук-порей</td>\n",
       "      <td>1</td>\n",
       "    </tr>\n",
       "  </tbody>\n",
       "</table>\n",
       "</div>"
      ],
      "text/plain": [
       "      id            Товар  Покупка\n",
       "0  17119            Лимон        1\n",
       "1  17119  Лимон оранжевый        1\n",
       "2  17119        Лук-порей        1"
      ]
     },
     "execution_count": 5,
     "metadata": {},
     "output_type": "execute_result"
    }
   ],
   "source": [
    "df1.head(3)"
   ]
  },
  {
   "cell_type": "markdown",
   "metadata": {},
   "source": [
    "**Чтобы провернуть трюк с подсчетом вхождений, немного преобразуем нашу таблицу**"
   ]
  },
  {
   "cell_type": "code",
   "execution_count": 6,
   "metadata": {},
   "outputs": [],
   "source": [
    "df1 = df1.pivot(index='id', columns='Товар', values='Покупка').fillna(0)"
   ]
  },
  {
   "cell_type": "code",
   "execution_count": 7,
   "metadata": {},
   "outputs": [
    {
     "data": {
      "text/html": [
       "<div>\n",
       "<style scoped>\n",
       "    .dataframe tbody tr th:only-of-type {\n",
       "        vertical-align: middle;\n",
       "    }\n",
       "\n",
       "    .dataframe tbody tr th {\n",
       "        vertical-align: top;\n",
       "    }\n",
       "\n",
       "    .dataframe thead th {\n",
       "        text-align: right;\n",
       "    }\n",
       "</style>\n",
       "<table border=\"1\" class=\"dataframe\">\n",
       "  <thead>\n",
       "    <tr style=\"text-align: right;\">\n",
       "      <th>Товар</th>\n",
       "      <th>Абрикос вяленый</th>\n",
       "      <th>Абрикосы молдавские</th>\n",
       "      <th>Авокадо ХАСС</th>\n",
       "      <th>Авокадо стандарт</th>\n",
       "      <th>Алыча вяленая</th>\n",
       "      <th>Ананас Gold</th>\n",
       "      <th>Ананасовые кольца</th>\n",
       "      <th>Апельсины столовые</th>\n",
       "      <th>Арбуз</th>\n",
       "      <th>Арбуз овальный</th>\n",
       "      <th>...</th>\n",
       "      <th>Яблоки Гала</th>\n",
       "      <th>Яблоки Голден</th>\n",
       "      <th>Яблоки Джонаголд</th>\n",
       "      <th>Яблоки Мутсу</th>\n",
       "      <th>Яблоки Симиренко</th>\n",
       "      <th>Яблоки Фуджи</th>\n",
       "      <th>Яблоки Чемпион</th>\n",
       "      <th>Яблоки сезонные</th>\n",
       "      <th>Яблоки сушеные</th>\n",
       "      <th>Ягоды Годжи</th>\n",
       "    </tr>\n",
       "    <tr>\n",
       "      <th>id</th>\n",
       "      <th></th>\n",
       "      <th></th>\n",
       "      <th></th>\n",
       "      <th></th>\n",
       "      <th></th>\n",
       "      <th></th>\n",
       "      <th></th>\n",
       "      <th></th>\n",
       "      <th></th>\n",
       "      <th></th>\n",
       "      <th></th>\n",
       "      <th></th>\n",
       "      <th></th>\n",
       "      <th></th>\n",
       "      <th></th>\n",
       "      <th></th>\n",
       "      <th></th>\n",
       "      <th></th>\n",
       "      <th></th>\n",
       "      <th></th>\n",
       "      <th></th>\n",
       "    </tr>\n",
       "  </thead>\n",
       "  <tbody>\n",
       "    <tr>\n",
       "      <th>17119</th>\n",
       "      <td>0.0</td>\n",
       "      <td>0.0</td>\n",
       "      <td>0.0</td>\n",
       "      <td>0.0</td>\n",
       "      <td>0.0</td>\n",
       "      <td>0.0</td>\n",
       "      <td>0.0</td>\n",
       "      <td>0.0</td>\n",
       "      <td>0.0</td>\n",
       "      <td>0.0</td>\n",
       "      <td>...</td>\n",
       "      <td>0.0</td>\n",
       "      <td>0.0</td>\n",
       "      <td>0.0</td>\n",
       "      <td>0.0</td>\n",
       "      <td>0.0</td>\n",
       "      <td>0.0</td>\n",
       "      <td>0.0</td>\n",
       "      <td>0.0</td>\n",
       "      <td>0.0</td>\n",
       "      <td>0.0</td>\n",
       "    </tr>\n",
       "    <tr>\n",
       "      <th>17530</th>\n",
       "      <td>0.0</td>\n",
       "      <td>0.0</td>\n",
       "      <td>0.0</td>\n",
       "      <td>0.0</td>\n",
       "      <td>0.0</td>\n",
       "      <td>0.0</td>\n",
       "      <td>0.0</td>\n",
       "      <td>0.0</td>\n",
       "      <td>0.0</td>\n",
       "      <td>0.0</td>\n",
       "      <td>...</td>\n",
       "      <td>0.0</td>\n",
       "      <td>0.0</td>\n",
       "      <td>0.0</td>\n",
       "      <td>0.0</td>\n",
       "      <td>0.0</td>\n",
       "      <td>0.0</td>\n",
       "      <td>0.0</td>\n",
       "      <td>0.0</td>\n",
       "      <td>0.0</td>\n",
       "      <td>0.0</td>\n",
       "    </tr>\n",
       "    <tr>\n",
       "      <th>17618</th>\n",
       "      <td>0.0</td>\n",
       "      <td>1.0</td>\n",
       "      <td>0.0</td>\n",
       "      <td>0.0</td>\n",
       "      <td>0.0</td>\n",
       "      <td>0.0</td>\n",
       "      <td>0.0</td>\n",
       "      <td>1.0</td>\n",
       "      <td>0.0</td>\n",
       "      <td>0.0</td>\n",
       "      <td>...</td>\n",
       "      <td>0.0</td>\n",
       "      <td>0.0</td>\n",
       "      <td>0.0</td>\n",
       "      <td>0.0</td>\n",
       "      <td>0.0</td>\n",
       "      <td>0.0</td>\n",
       "      <td>0.0</td>\n",
       "      <td>0.0</td>\n",
       "      <td>0.0</td>\n",
       "      <td>1.0</td>\n",
       "    </tr>\n",
       "  </tbody>\n",
       "</table>\n",
       "<p>3 rows × 199 columns</p>\n",
       "</div>"
      ],
      "text/plain": [
       "Товар  Абрикос вяленый  Абрикосы молдавские  Авокадо ХАСС  Авокадо стандарт  \\\n",
       "id                                                                            \n",
       "17119              0.0                  0.0           0.0               0.0   \n",
       "17530              0.0                  0.0           0.0               0.0   \n",
       "17618              0.0                  1.0           0.0               0.0   \n",
       "\n",
       "Товар  Алыча вяленая  Ананас Gold  Ананасовые кольца  Апельсины столовые  \\\n",
       "id                                                                         \n",
       "17119            0.0          0.0                0.0                 0.0   \n",
       "17530            0.0          0.0                0.0                 0.0   \n",
       "17618            0.0          0.0                0.0                 1.0   \n",
       "\n",
       "Товар  Арбуз  Арбуз овальный  ...  Яблоки Гала  Яблоки Голден  \\\n",
       "id                            ...                               \n",
       "17119    0.0             0.0  ...          0.0            0.0   \n",
       "17530    0.0             0.0  ...          0.0            0.0   \n",
       "17618    0.0             0.0  ...          0.0            0.0   \n",
       "\n",
       "Товар  Яблоки Джонаголд  Яблоки Мутсу  Яблоки Симиренко  Яблоки Фуджи  \\\n",
       "id                                                                      \n",
       "17119               0.0           0.0               0.0           0.0   \n",
       "17530               0.0           0.0               0.0           0.0   \n",
       "17618               0.0           0.0               0.0           0.0   \n",
       "\n",
       "Товар  Яблоки Чемпион  Яблоки сезонные  Яблоки сушеные  Ягоды Годжи  \n",
       "id                                                                   \n",
       "17119             0.0              0.0             0.0          0.0  \n",
       "17530             0.0              0.0             0.0          0.0  \n",
       "17618             0.0              0.0             0.0          1.0  \n",
       "\n",
       "[3 rows x 199 columns]"
      ]
     },
     "execution_count": 7,
     "metadata": {},
     "output_type": "execute_result"
    }
   ],
   "source": [
    "df1.head(3)"
   ]
  },
  {
   "cell_type": "markdown",
   "metadata": {},
   "source": [
    "**Если умножить матрицу на  её транспонированную версию, то мы получим все возможные пары товаров. Такая таблица симметрична относительно главной диагонали, поэтому, чтобы избежать задвоения значений,  отберем только одну её половину(верхнюю или нижнюю)**"
   ]
  },
  {
   "cell_type": "code",
   "execution_count": 8,
   "metadata": {},
   "outputs": [],
   "source": [
    "purhases = df1.T.dot(df1)"
   ]
  },
  {
   "cell_type": "code",
   "execution_count": 9,
   "metadata": {},
   "outputs": [],
   "source": [
    "cond = np.triu(np.ones(purhases.shape)).astype(bool)"
   ]
  },
  {
   "cell_type": "code",
   "execution_count": 10,
   "metadata": {},
   "outputs": [
    {
     "data": {
      "text/html": [
       "<div>\n",
       "<style scoped>\n",
       "    .dataframe tbody tr th:only-of-type {\n",
       "        vertical-align: middle;\n",
       "    }\n",
       "\n",
       "    .dataframe tbody tr th {\n",
       "        vertical-align: top;\n",
       "    }\n",
       "\n",
       "    .dataframe thead th {\n",
       "        text-align: right;\n",
       "    }\n",
       "</style>\n",
       "<table border=\"1\" class=\"dataframe\">\n",
       "  <thead>\n",
       "    <tr style=\"text-align: right;\">\n",
       "      <th>Товар</th>\n",
       "      <th>Абрикос вяленый</th>\n",
       "      <th>Абрикосы молдавские</th>\n",
       "      <th>Авокадо ХАСС</th>\n",
       "      <th>Авокадо стандарт</th>\n",
       "      <th>Алыча вяленая</th>\n",
       "      <th>Ананас Gold</th>\n",
       "      <th>Ананасовые кольца</th>\n",
       "      <th>Апельсины столовые</th>\n",
       "      <th>Арбуз</th>\n",
       "      <th>Арбуз овальный</th>\n",
       "      <th>...</th>\n",
       "      <th>Яблоки Гала</th>\n",
       "      <th>Яблоки Голден</th>\n",
       "      <th>Яблоки Джонаголд</th>\n",
       "      <th>Яблоки Мутсу</th>\n",
       "      <th>Яблоки Симиренко</th>\n",
       "      <th>Яблоки Фуджи</th>\n",
       "      <th>Яблоки Чемпион</th>\n",
       "      <th>Яблоки сезонные</th>\n",
       "      <th>Яблоки сушеные</th>\n",
       "      <th>Ягоды Годжи</th>\n",
       "    </tr>\n",
       "    <tr>\n",
       "      <th>Товар</th>\n",
       "      <th></th>\n",
       "      <th></th>\n",
       "      <th></th>\n",
       "      <th></th>\n",
       "      <th></th>\n",
       "      <th></th>\n",
       "      <th></th>\n",
       "      <th></th>\n",
       "      <th></th>\n",
       "      <th></th>\n",
       "      <th></th>\n",
       "      <th></th>\n",
       "      <th></th>\n",
       "      <th></th>\n",
       "      <th></th>\n",
       "      <th></th>\n",
       "      <th></th>\n",
       "      <th></th>\n",
       "      <th></th>\n",
       "      <th></th>\n",
       "      <th></th>\n",
       "    </tr>\n",
       "  </thead>\n",
       "  <tbody>\n",
       "    <tr>\n",
       "      <th>Абрикос вяленый</th>\n",
       "      <td>NaN</td>\n",
       "      <td>NaN</td>\n",
       "      <td>NaN</td>\n",
       "      <td>NaN</td>\n",
       "      <td>NaN</td>\n",
       "      <td>NaN</td>\n",
       "      <td>NaN</td>\n",
       "      <td>NaN</td>\n",
       "      <td>NaN</td>\n",
       "      <td>NaN</td>\n",
       "      <td>...</td>\n",
       "      <td>NaN</td>\n",
       "      <td>NaN</td>\n",
       "      <td>NaN</td>\n",
       "      <td>NaN</td>\n",
       "      <td>NaN</td>\n",
       "      <td>NaN</td>\n",
       "      <td>NaN</td>\n",
       "      <td>NaN</td>\n",
       "      <td>NaN</td>\n",
       "      <td>NaN</td>\n",
       "    </tr>\n",
       "    <tr>\n",
       "      <th>Абрикосы молдавские</th>\n",
       "      <td>20.0</td>\n",
       "      <td>NaN</td>\n",
       "      <td>NaN</td>\n",
       "      <td>NaN</td>\n",
       "      <td>NaN</td>\n",
       "      <td>NaN</td>\n",
       "      <td>NaN</td>\n",
       "      <td>NaN</td>\n",
       "      <td>NaN</td>\n",
       "      <td>NaN</td>\n",
       "      <td>...</td>\n",
       "      <td>NaN</td>\n",
       "      <td>NaN</td>\n",
       "      <td>NaN</td>\n",
       "      <td>NaN</td>\n",
       "      <td>NaN</td>\n",
       "      <td>NaN</td>\n",
       "      <td>NaN</td>\n",
       "      <td>NaN</td>\n",
       "      <td>NaN</td>\n",
       "      <td>NaN</td>\n",
       "    </tr>\n",
       "    <tr>\n",
       "      <th>Авокадо ХАСС</th>\n",
       "      <td>10.0</td>\n",
       "      <td>37.0</td>\n",
       "      <td>NaN</td>\n",
       "      <td>NaN</td>\n",
       "      <td>NaN</td>\n",
       "      <td>NaN</td>\n",
       "      <td>NaN</td>\n",
       "      <td>NaN</td>\n",
       "      <td>NaN</td>\n",
       "      <td>NaN</td>\n",
       "      <td>...</td>\n",
       "      <td>NaN</td>\n",
       "      <td>NaN</td>\n",
       "      <td>NaN</td>\n",
       "      <td>NaN</td>\n",
       "      <td>NaN</td>\n",
       "      <td>NaN</td>\n",
       "      <td>NaN</td>\n",
       "      <td>NaN</td>\n",
       "      <td>NaN</td>\n",
       "      <td>NaN</td>\n",
       "    </tr>\n",
       "  </tbody>\n",
       "</table>\n",
       "<p>3 rows × 199 columns</p>\n",
       "</div>"
      ],
      "text/plain": [
       "Товар                Абрикос вяленый  Абрикосы молдавские  Авокадо ХАСС  \\\n",
       "Товар                                                                     \n",
       "Абрикос вяленый                  NaN                  NaN           NaN   \n",
       "Абрикосы молдавские             20.0                  NaN           NaN   \n",
       "Авокадо ХАСС                    10.0                 37.0           NaN   \n",
       "\n",
       "Товар                Авокадо стандарт  Алыча вяленая  Ананас Gold  \\\n",
       "Товар                                                               \n",
       "Абрикос вяленый                   NaN            NaN          NaN   \n",
       "Абрикосы молдавские               NaN            NaN          NaN   \n",
       "Авокадо ХАСС                      NaN            NaN          NaN   \n",
       "\n",
       "Товар                Ананасовые кольца  Апельсины столовые  Арбуз  \\\n",
       "Товар                                                               \n",
       "Абрикос вяленый                    NaN                 NaN    NaN   \n",
       "Абрикосы молдавские                NaN                 NaN    NaN   \n",
       "Авокадо ХАСС                       NaN                 NaN    NaN   \n",
       "\n",
       "Товар                Арбуз овальный  ...  Яблоки Гала  Яблоки Голден  \\\n",
       "Товар                                ...                               \n",
       "Абрикос вяленый                 NaN  ...          NaN            NaN   \n",
       "Абрикосы молдавские             NaN  ...          NaN            NaN   \n",
       "Авокадо ХАСС                    NaN  ...          NaN            NaN   \n",
       "\n",
       "Товар                Яблоки Джонаголд  Яблоки Мутсу  Яблоки Симиренко  \\\n",
       "Товар                                                                   \n",
       "Абрикос вяленый                   NaN           NaN               NaN   \n",
       "Абрикосы молдавские               NaN           NaN               NaN   \n",
       "Авокадо ХАСС                      NaN           NaN               NaN   \n",
       "\n",
       "Товар                Яблоки Фуджи  Яблоки Чемпион  Яблоки сезонные  \\\n",
       "Товар                                                                \n",
       "Абрикос вяленый               NaN             NaN              NaN   \n",
       "Абрикосы молдавские           NaN             NaN              NaN   \n",
       "Авокадо ХАСС                  NaN             NaN              NaN   \n",
       "\n",
       "Товар                Яблоки сушеные  Ягоды Годжи  \n",
       "Товар                                             \n",
       "Абрикос вяленый                 NaN          NaN  \n",
       "Абрикосы молдавские             NaN          NaN  \n",
       "Авокадо ХАСС                    NaN          NaN  \n",
       "\n",
       "[3 rows x 199 columns]"
      ]
     },
     "execution_count": 10,
     "metadata": {},
     "output_type": "execute_result"
    }
   ],
   "source": [
    "purhases = purhases.mask(cond=cond)\n",
    "purhases.head(3)"
   ]
  },
  {
   "cell_type": "markdown",
   "metadata": {},
   "source": [
    "**Приведем все в понятный вид и снова покрутим нашу таблицу**"
   ]
  },
  {
   "cell_type": "code",
   "execution_count": 11,
   "metadata": {},
   "outputs": [],
   "source": [
    "purhases = (purhases.stack()\n",
    "                    .reset_index(0)\n",
    "                    .rename(columns={'Товар': 'Товар_2', 0:'Встречаемость'})\n",
    "                    .reset_index()\n",
    "                    .rename(columns={'Товар': 'Товар_1'})\n",
    "                    .sort_values(by='Встречаемость', ascending=False))"
   ]
  },
  {
   "cell_type": "code",
   "execution_count": 12,
   "metadata": {},
   "outputs": [
    {
     "data": {
      "text/html": [
       "<div>\n",
       "<style scoped>\n",
       "    .dataframe tbody tr th:only-of-type {\n",
       "        vertical-align: middle;\n",
       "    }\n",
       "\n",
       "    .dataframe tbody tr th {\n",
       "        vertical-align: top;\n",
       "    }\n",
       "\n",
       "    .dataframe thead th {\n",
       "        text-align: right;\n",
       "    }\n",
       "</style>\n",
       "<table border=\"1\" class=\"dataframe\">\n",
       "  <thead>\n",
       "    <tr style=\"text-align: right;\">\n",
       "      <th></th>\n",
       "      <th>Товар_1</th>\n",
       "      <th>Товар_2</th>\n",
       "      <th>Встречаемость</th>\n",
       "    </tr>\n",
       "  </thead>\n",
       "  <tbody>\n",
       "    <tr>\n",
       "      <th>13643</th>\n",
       "      <td>Огурцы Луховицкие</td>\n",
       "      <td>Укроп</td>\n",
       "      <td>431.0</td>\n",
       "    </tr>\n",
       "    <tr>\n",
       "      <th>13657</th>\n",
       "      <td>Петрушка</td>\n",
       "      <td>Укроп</td>\n",
       "      <td>408.0</td>\n",
       "    </tr>\n",
       "    <tr>\n",
       "      <th>6336</th>\n",
       "      <td>Арбуз</td>\n",
       "      <td>Огурцы Луховицкие</td>\n",
       "      <td>345.0</td>\n",
       "    </tr>\n",
       "    <tr>\n",
       "      <th>6383</th>\n",
       "      <td>Кабачки</td>\n",
       "      <td>Огурцы Луховицкие</td>\n",
       "      <td>326.0</td>\n",
       "    </tr>\n",
       "    <tr>\n",
       "      <th>13597</th>\n",
       "      <td>Кинза</td>\n",
       "      <td>Укроп</td>\n",
       "      <td>303.0</td>\n",
       "    </tr>\n",
       "  </tbody>\n",
       "</table>\n",
       "</div>"
      ],
      "text/plain": [
       "                 Товар_1            Товар_2  Встречаемость\n",
       "13643  Огурцы Луховицкие              Укроп          431.0\n",
       "13657           Петрушка              Укроп          408.0\n",
       "6336               Арбуз  Огурцы Луховицкие          345.0\n",
       "6383             Кабачки  Огурцы Луховицкие          326.0\n",
       "13597              Кинза              Укроп          303.0"
      ]
     },
     "execution_count": 12,
     "metadata": {},
     "output_type": "execute_result"
    }
   ],
   "source": [
    "purhases.head()"
   ]
  },
  {
   "cell_type": "markdown",
   "metadata": {},
   "source": [
    "**Выполним коротенькую проверку ; ) Будем использовать apriori, модуль для Associations rules learning — ARL**\n",
    "\n",
    "[Вот тут подробная статья](https://habr.com/ru/company/ods/blog/353502/)"
   ]
  },
  {
   "cell_type": "code",
   "execution_count": 13,
   "metadata": {},
   "outputs": [],
   "source": [
    "from apyori import apriori\n",
    "from apyori import dump_as_json"
   ]
  },
  {
   "cell_type": "markdown",
   "metadata": {},
   "source": [
    "**На вход передается список транзакций, поэтому необходимо подготовить наши данные**"
   ]
  },
  {
   "cell_type": "code",
   "execution_count": 14,
   "metadata": {},
   "outputs": [],
   "source": [
    "ARL_df = df.drop(columns='Количество')\n",
    "ARL_df = ARL_df.groupby('id').agg(lambda x: x.tolist())"
   ]
  },
  {
   "cell_type": "code",
   "execution_count": 15,
   "metadata": {},
   "outputs": [],
   "source": [
    "transactions =  ARL_df.reset_index().Товар.to_list()"
   ]
  },
  {
   "cell_type": "code",
   "execution_count": 16,
   "metadata": {},
   "outputs": [],
   "source": [
    "result = list(apriori(transactions, max_length = 2, min_support = 0.05))"
   ]
  },
  {
   "cell_type": "code",
   "execution_count": 17,
   "metadata": {},
   "outputs": [],
   "source": [
    "from io import StringIO \n",
    "import json \n",
    "output = []\n",
    "for RelationRecord in result:\n",
    "    o = StringIO()\n",
    "    dump_as_json(RelationRecord, o)\n",
    "    output.append(json.loads(o.getvalue()))    \n",
    "data_df = pd.DataFrame(output)"
   ]
  },
  {
   "cell_type": "markdown",
   "metadata": {},
   "source": [
    "**Под капотом находятся *Support (поддержка)*, *Confidence (достоверность)* и *Lift (поддержка)*, нас интересует только первая метрика. Также нам интересны только пары товаров, поэтому отберем нужную нам часть фрейма**"
   ]
  },
  {
   "cell_type": "code",
   "execution_count": 18,
   "metadata": {},
   "outputs": [],
   "source": [
    "final_df = data_df[['items', 'support']].copy()"
   ]
  },
  {
   "cell_type": "code",
   "execution_count": 19,
   "metadata": {},
   "outputs": [],
   "source": [
    "final_df['frequency'] = (final_df.support * len(transactions)).astype(int)"
   ]
  },
  {
   "cell_type": "code",
   "execution_count": 20,
   "metadata": {},
   "outputs": [],
   "source": [
    "final_df['number_of_items'] = final_df['items'].apply(lambda x: len(x))"
   ]
  },
  {
   "cell_type": "code",
   "execution_count": 21,
   "metadata": {},
   "outputs": [],
   "source": [
    "pair_purchases = final_df[final_df[\"number_of_items\"] == 2].sort_values(by=\"support\", ascending = False)[['items', 'frequency']]"
   ]
  },
  {
   "cell_type": "code",
   "execution_count": 22,
   "metadata": {},
   "outputs": [
    {
     "data": {
      "text/html": [
       "<div>\n",
       "<style scoped>\n",
       "    .dataframe tbody tr th:only-of-type {\n",
       "        vertical-align: middle;\n",
       "    }\n",
       "\n",
       "    .dataframe tbody tr th {\n",
       "        vertical-align: top;\n",
       "    }\n",
       "\n",
       "    .dataframe thead th {\n",
       "        text-align: right;\n",
       "    }\n",
       "</style>\n",
       "<table border=\"1\" class=\"dataframe\">\n",
       "  <thead>\n",
       "    <tr style=\"text-align: right;\">\n",
       "      <th></th>\n",
       "      <th>items</th>\n",
       "      <th>frequency</th>\n",
       "    </tr>\n",
       "  </thead>\n",
       "  <tbody>\n",
       "    <tr>\n",
       "      <th>153</th>\n",
       "      <td>[Огурцы Луховицкие, Укроп]</td>\n",
       "      <td>431</td>\n",
       "    </tr>\n",
       "    <tr>\n",
       "      <th>158</th>\n",
       "      <td>[Петрушка, Укроп]</td>\n",
       "      <td>408</td>\n",
       "    </tr>\n",
       "    <tr>\n",
       "      <th>117</th>\n",
       "      <td>[Арбуз, Огурцы Луховицкие]</td>\n",
       "      <td>345</td>\n",
       "    </tr>\n",
       "    <tr>\n",
       "      <th>134</th>\n",
       "      <td>[Кабачки, Огурцы Луховицкие]</td>\n",
       "      <td>326</td>\n",
       "    </tr>\n",
       "    <tr>\n",
       "      <th>139</th>\n",
       "      <td>[Кинза, Укроп]</td>\n",
       "      <td>303</td>\n",
       "    </tr>\n",
       "  </tbody>\n",
       "</table>\n",
       "</div>"
      ],
      "text/plain": [
       "                            items  frequency\n",
       "153    [Огурцы Луховицкие, Укроп]        431\n",
       "158             [Петрушка, Укроп]        408\n",
       "117    [Арбуз, Огурцы Луховицкие]        345\n",
       "134  [Кабачки, Огурцы Луховицкие]        326\n",
       "139                [Кинза, Укроп]        303"
      ]
     },
     "execution_count": 22,
     "metadata": {},
     "output_type": "execute_result"
    }
   ],
   "source": [
    "pair_purchases.head()"
   ]
  }
 ],
 "metadata": {
  "kernelspec": {
   "display_name": "Python 3",
   "language": "python",
   "name": "python3"
  },
  "language_info": {
   "codemirror_mode": {
    "name": "ipython",
    "version": 3
   },
   "file_extension": ".py",
   "mimetype": "text/x-python",
   "name": "python",
   "nbconvert_exporter": "python",
   "pygments_lexer": "ipython3",
   "version": "3.7.3"
  }
 },
 "nbformat": 4,
 "nbformat_minor": 4
}
